{
 "cells": [
  {
   "cell_type": "code",
   "execution_count": 1,
   "id": "bd2c7ca3-4931-49c1-b57b-8b5c6ba391aa",
   "metadata": {},
   "outputs": [],
   "source": [
    "import cv2"
   ]
  },
  {
   "cell_type": "code",
   "execution_count": 2,
   "id": "2dc16520-700e-44dd-85dd-5954fe3494f4",
   "metadata": {},
   "outputs": [],
   "source": [
    "empty = cv2.imread(\"empty.jpg\")\n",
    "truck = cv2.imread(\"truck.jpg\")"
   ]
  },
  {
   "cell_type": "code",
   "execution_count": 3,
   "id": "6e72f063-8124-456c-9f76-d0cc6d31e557",
   "metadata": {},
   "outputs": [],
   "source": [
    "fps = 30"
   ]
  },
  {
   "cell_type": "code",
   "execution_count": 7,
   "id": "969e6d67-7d96-461e-a5e2-838181079453",
   "metadata": {},
   "outputs": [],
   "source": [
    "size = (empty.shape[1], empty.shape[0])"
   ]
  },
  {
   "cell_type": "code",
   "execution_count": 5,
   "id": "422f0831-9c18-4136-88f5-e7ea1a91ad20",
   "metadata": {},
   "outputs": [],
   "source": [
    "fourcc = cv2.VideoWriter_fourcc(*\"mp4v\")"
   ]
  },
  {
   "cell_type": "code",
   "execution_count": 8,
   "id": "a40a4a72-5c2b-4bd8-bb14-5533283a3a69",
   "metadata": {},
   "outputs": [],
   "source": [
    "out = cv2.VideoWriter(\"sample.mp4\", fourcc, fps, size)"
   ]
  },
  {
   "cell_type": "code",
   "execution_count": 9,
   "id": "bd7e5e17-e164-4e4f-9ebe-51f6834f5233",
   "metadata": {},
   "outputs": [],
   "source": [
    "for _ in range(180):\n",
    "    out.write(empty)"
   ]
  },
  {
   "cell_type": "code",
   "execution_count": 10,
   "id": "d7fd4927-7c49-4cf8-b505-547788c6d001",
   "metadata": {},
   "outputs": [],
   "source": [
    "for _ in range(60):\n",
    "    out.write(truck)"
   ]
  },
  {
   "cell_type": "code",
   "execution_count": 11,
   "id": "3b489a0b-79d8-4d62-9d08-42b16b9b4724",
   "metadata": {},
   "outputs": [],
   "source": [
    "for _ in range(120):\n",
    "    out.write(empty)"
   ]
  },
  {
   "cell_type": "code",
   "execution_count": 12,
   "id": "18650f2d-81ac-4573-9b95-40488063ea03",
   "metadata": {},
   "outputs": [],
   "source": [
    "for _ in range(60):\n",
    "    out.write(truck)"
   ]
  },
  {
   "cell_type": "code",
   "execution_count": 13,
   "id": "e42f23f4-8c3b-4422-ad41-f0bc9f9164a1",
   "metadata": {},
   "outputs": [],
   "source": [
    "for _ in range(90):\n",
    "    out.write(empty)"
   ]
  },
  {
   "cell_type": "code",
   "execution_count": 14,
   "id": "271fb6aa-3c64-48a5-9568-1401071ac0d2",
   "metadata": {},
   "outputs": [
    {
     "name": "stdout",
     "output_type": "stream",
     "text": [
      "done\n"
     ]
    }
   ],
   "source": [
    "out.release()\n",
    "print(\"done\")"
   ]
  },
  {
   "cell_type": "code",
   "execution_count": null,
   "id": "205da28d-0fd3-4a55-8e97-19c03d3aca49",
   "metadata": {},
   "outputs": [],
   "source": []
  }
 ],
 "metadata": {
  "kernelspec": {
   "display_name": "Python 3 (ipykernel)",
   "language": "python",
   "name": "python3"
  },
  "language_info": {
   "codemirror_mode": {
    "name": "ipython",
    "version": 3
   },
   "file_extension": ".py",
   "mimetype": "text/x-python",
   "name": "python",
   "nbconvert_exporter": "python",
   "pygments_lexer": "ipython3",
   "version": "3.13.3"
  }
 },
 "nbformat": 4,
 "nbformat_minor": 5
}
