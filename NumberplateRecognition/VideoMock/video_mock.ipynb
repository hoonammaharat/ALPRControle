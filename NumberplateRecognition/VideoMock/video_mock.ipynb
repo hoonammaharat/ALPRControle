{
 "cells": [
  {
   "cell_type": "code",
   "execution_count": 10,
   "id": "bd2c7ca3-4931-49c1-b57b-8b5c6ba391aa",
   "metadata": {},
   "outputs": [],
   "source": [
    "import cv2\n",
    "import numpy as np"
   ]
  },
  {
   "cell_type": "code",
   "execution_count": 11,
   "id": "2dc16520-700e-44dd-85dd-5954fe3494f4",
   "metadata": {},
   "outputs": [],
   "source": [
    "empty = cv2.imread(\"empty.jpg\")\n",
    "empty1 = cv2.bitwise_not(empty)\n",
    "empty2 = cv2.cvtColor(empty, cv2.COLOR_BGR2GRAY)\n",
    "empty2 = cv2.cvtColor(empty2, cv2.COLOR_GRAY2BGR)\n",
    "\n",
    "truck = cv2.imread(\"truck_highres.jpg\")\n",
    "height, width, _ = truck.shape\n",
    "r = np.full((40, width, 3), (0, 0, 255), dtype=np.uint8)\n",
    "g = np.full((40, width, 3), (0, 255, 0), dtype=np.uint8)\n",
    "b = np.full((40, width, 3), (255, 0, 0), dtype=np.uint8)\n",
    "truck0 = np.vstack((r, truck[40:,:,:]))\n",
    "truck1 = np.vstack((g, truck[40:,:,:]))\n",
    "truck2 = np.vstack((b, truck[40:,:,:]))"
   ]
  },
  {
   "cell_type": "code",
   "execution_count": 12,
   "id": "6e72f063-8124-456c-9f76-d0cc6d31e557",
   "metadata": {},
   "outputs": [],
   "source": [
    "fps = 30"
   ]
  },
  {
   "cell_type": "code",
   "execution_count": 13,
   "id": "969e6d67-7d96-461e-a5e2-838181079453",
   "metadata": {},
   "outputs": [],
   "source": [
    "size = (empty.shape[1], empty.shape[0])"
   ]
  },
  {
   "cell_type": "code",
   "execution_count": 14,
   "id": "422f0831-9c18-4136-88f5-e7ea1a91ad20",
   "metadata": {},
   "outputs": [],
   "source": [
    "fourcc = cv2.VideoWriter_fourcc(*\"mp4v\")"
   ]
  },
  {
   "cell_type": "code",
   "execution_count": 15,
   "id": "a40a4a72-5c2b-4bd8-bb14-5533283a3a69",
   "metadata": {},
   "outputs": [],
   "source": [
    "out = cv2.VideoWriter(\"sample.mp4\", fourcc, fps, size)"
   ]
  },
  {
   "cell_type": "code",
   "execution_count": 16,
   "id": "bd7e5e17-e164-4e4f-9ebe-51f6834f5233",
   "metadata": {},
   "outputs": [],
   "source": [
    "for i in range(10):\n",
    "    for _ in range(180):\n",
    "        if _ % 3 == 0:\n",
    "            out.write(empty)\n",
    "        elif _ % 3 == 1:\n",
    "            out.write(empty1)\n",
    "        else:\n",
    "            out.write(empty2)\n",
    "    for _ in range(60):\n",
    "        if _ % 3 == 0:\n",
    "            out.write(truck0)\n",
    "        elif _ % 3 == 1:\n",
    "            out.write(truck1)\n",
    "        else:\n",
    "            out.write(truck2)"
   ]
  },
  {
   "cell_type": "code",
   "execution_count": 17,
   "id": "271fb6aa-3c64-48a5-9568-1401071ac0d2",
   "metadata": {},
   "outputs": [
    {
     "name": "stdout",
     "output_type": "stream",
     "text": [
      "done\n"
     ]
    }
   ],
   "source": [
    "out.release()\n",
    "print(\"done\")"
   ]
  }
 ],
 "metadata": {
  "kernelspec": {
   "display_name": "Python 3",
   "language": "python",
   "name": "python3"
  },
  "language_info": {
   "codemirror_mode": {
    "name": "ipython",
    "version": 3
   },
   "file_extension": ".py",
   "mimetype": "text/x-python",
   "name": "python",
   "nbconvert_exporter": "python",
   "pygments_lexer": "ipython3",
   "version": "3.13.3"
  }
 },
 "nbformat": 4,
 "nbformat_minor": 5
}
